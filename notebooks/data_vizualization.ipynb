{
 "cells": [
  {
   "cell_type": "code",
   "execution_count": null,
   "id": "7d0252d2",
   "metadata": {},
   "outputs": [],
   "source": [
    "import pandas as pd\n",
    "import plotly.express as px\n",
    "\n",
    "data = pd.read_csv(\"../dataset/output.csv\")\n",
    "poems_by_author = data.groupby(data[\"label\"]).count().reset_index()\n",
    "poems_by_author.columns = [\"author\", \"text\"]\n",
    "\n",
    "px.pie(poems_by_author, values=\"text\", names=\"author\")"
   ]
  },
  {
   "cell_type": "code",
   "execution_count": null,
   "id": "5b5435a9",
   "metadata": {},
   "outputs": [],
   "source": [
    "data[\"text_length\"] = data[\"text\"].str.split().str.len()"
   ]
  },
  {
   "cell_type": "code",
   "execution_count": null,
   "id": "1fc52e17",
   "metadata": {},
   "outputs": [],
   "source": [
    "px.histogram(data[\"text_length\"], color=data[\"label\"])"
   ]
  },
  {
   "cell_type": "code",
   "execution_count": null,
   "id": "ff9d2aa3",
   "metadata": {},
   "outputs": [],
   "source": [
    "data = data[data[\"text_length\"] < 1000]"
   ]
  },
  {
   "cell_type": "code",
   "execution_count": null,
   "id": "580b34a7",
   "metadata": {},
   "outputs": [],
   "source": [
    "import nltk\n",
    "from nltk.stem.snowball import SnowballStemmer\n",
    "from nltk.tokenize import word_tokenize, RegexpTokenizer\n",
    "from nltk.corpus import stopwords\n",
    "import string\n",
    "\n",
    "\n",
    "nltk.download(\"popular\")\n",
    "nltk.download(\"punkt\")\n",
    "nltk.download(\"punkt_tab\")\n",
    "\n",
    "stop_words = set(stopwords.words(\"russian\"))\n",
    "stop_words"
   ]
  },
  {
   "cell_type": "code",
   "execution_count": null,
   "id": "3edeb1ff",
   "metadata": {},
   "outputs": [],
   "source": [
    "from collections import Counter\n",
    "import pymorphy2\n",
    "\n",
    "morph = pymorphy2.MorphAnalyzer()\n",
    "stemmer = SnowballStemmer(\"russian\")\n",
    "tokenizer = RegexpTokenizer(r'\\w+')\n",
    "lemmas = {\n",
    "    \"blok\": Counter(),\n",
    "    \"cvetaeva\": Counter(),\n",
    "    \"pasternak\": Counter()\n",
    "}\n",
    "\n",
    "def normalize(text: str, label: str):\n",
    "    global lemmas\n",
    "    tokens = tokenizer.tokenize(text.lower())\n",
    "    tokens = [token for token in tokens if token not in string.punctuation]\n",
    "    \n",
    "    for token in tokens:\n",
    "        if token in stop_words:\n",
    "            continue\n",
    "        \n",
    "        normal_form = morph.parse(token)[0].normal_form\n",
    "        lemmas[label][normal_form] += 1\n",
    "        \n",
    "for index, row in data.iterrows():\n",
    "    normalize(row[\"text\"], row[\"label\"])"
   ]
  },
  {
   "cell_type": "code",
   "execution_count": null,
   "id": "26726967",
   "metadata": {},
   "outputs": [],
   "source": [
    "from plotly.subplots import make_subplots\n",
    "\n",
    "fig = make_subplots(rows=3, cols=1)\n",
    "\n",
    "def convert_to_df(author_word_frew: dict):\n",
    "    word_counts_df = pd.DataFrame({\n",
    "        \"word\": author_word_frew.keys(),\n",
    "        \"count\": author_word_frew.values()\n",
    "    })\n",
    "    return word_counts_df\n",
    "\n",
    "word_counts_blok = convert_to_df(lemmas[\"blok\"]).sort_values(by=\"count\", key=lambda x: -x)\n",
    "word_counts_pasternak = convert_to_df(lemmas[\"pasternak\"]).sort_values(by=\"count\", key=lambda x: -x)\n",
    "word_counts_cvetaeva = convert_to_df(lemmas[\"cvetaeva\"]).sort_values(by=\"count\", key=lambda x: -x)\n",
    "\n",
    "\n",
    "blok = px.histogram(word_counts_blok, x=\"word\", y=\"count\", title=\"blok\")\n",
    "pasternak = px.histogram(word_counts_pasternak, x=\"word\", y=\"count\", title=\"pasternak\")\n",
    "cvetaeva = px.histogram(word_counts_cvetaeva, x=\"word\", y=\"count\", title=\"cvetaeva\")\n"
   ]
  },
  {
   "cell_type": "code",
   "execution_count": null,
   "id": "394cb235",
   "metadata": {},
   "outputs": [],
   "source": [
    "blok.show()\n",
    "cvetaeva.show()\n",
    "pasternak.show()"
   ]
  }
 ],
 "metadata": {
  "kernelspec": {
   "display_name": "classic-books-classification",
   "language": "python",
   "name": "python3"
  },
  "language_info": {
   "codemirror_mode": {
    "name": "ipython",
    "version": 3
   },
   "file_extension": ".py",
   "mimetype": "text/x-python",
   "name": "python",
   "nbconvert_exporter": "python",
   "pygments_lexer": "ipython3",
   "version": "3.10.18"
  }
 },
 "nbformat": 4,
 "nbformat_minor": 5
}
