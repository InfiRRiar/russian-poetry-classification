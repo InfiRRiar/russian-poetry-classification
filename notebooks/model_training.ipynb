{
 "cells": [
  {
   "cell_type": "code",
   "execution_count": 1,
   "id": "29ca7e70",
   "metadata": {},
   "outputs": [],
   "source": [
    "from datasets import load_dataset, DatasetDict, Dataset\n",
    "from peft import LoraConfig, LoraModel, get_peft_model\n",
    "from transformers import BertForSequenceClassification, BertTokenizer\n",
    "from torch.utils.data import DataLoader\n",
    "import pandas as pd\n",
    "from typing import Collection\n",
    "from tqdm import tqdm\n",
    "import copy\n",
    "\n",
    "import transformers\n",
    "import torch\n",
    "import torch.nn as nn"
   ]
  },
  {
   "cell_type": "code",
   "execution_count": 2,
   "id": "15505695",
   "metadata": {},
   "outputs": [
    {
     "name": "stdout",
     "output_type": "stream",
     "text": [
      "cuda:0\n"
     ]
    }
   ],
   "source": [
    "torch.manual_seed(42)\n",
    "\n",
    "author_to_label = {\n",
    "    \"blok\": 0,\n",
    "    \"cvetaeva\": 1,\n",
    "    \"pasternak\": 2\n",
    "}\n",
    "transformers.logging.set_verbosity_error()\n",
    "\n",
    "device = \"cuda:0\" if torch.cuda.is_available() else \"cpu\"\n",
    "print(device)"
   ]
  },
  {
   "cell_type": "code",
   "execution_count": 3,
   "id": "76739c62",
   "metadata": {},
   "outputs": [],
   "source": [
    "def preprocess_data(data: pd.DataFrame):\n",
    "    processed_data = data.copy()\n",
    "    processed_data[\"text_length\"] = processed_data[\"text\"].str.split().str.len()\n",
    "    processed_data = processed_data[processed_data[\"text_length\"] < 1000]\n",
    "    processed_data[\"label\"] = processed_data[\"label\"].apply(lambda x: author_to_label[x])\n",
    "    return processed_data\n",
    "\n",
    "def df_to_dataset(df: pd.DataFrame) -> DatasetDict:\n",
    "    data = Dataset.from_pandas(df)\n",
    "    data = data.shuffle()\n",
    "    data = data.train_test_split(test_size=0.2)\n",
    "    return data\n",
    "\n",
    "def tokenize_text(data: Dataset, tokenizer: BertTokenizer):\n",
    "    return tokenizer(\n",
    "        data[\"text\"],\n",
    "        padding=True,\n",
    "        truncation=False,\n",
    "    )\n"
   ]
  },
  {
   "cell_type": "code",
   "execution_count": 4,
   "id": "20d83749",
   "metadata": {},
   "outputs": [],
   "source": [
    "model_name = \"cointegrated/rubert-tiny2\"\n",
    "\n",
    "model = BertForSequenceClassification.from_pretrained(model_name, num_labels=3).to(device)\n",
    "tokenizer = BertTokenizer.from_pretrained(model_name)"
   ]
  },
  {
   "cell_type": "code",
   "execution_count": 5,
   "id": "4f266e69",
   "metadata": {},
   "outputs": [
    {
     "data": {
      "application/vnd.jupyter.widget-view+json": {
       "model_id": "1b02906c2f1a468c860383dcd8fdc61c",
       "version_major": 2,
       "version_minor": 0
      },
      "text/plain": [
       "Map:   0%|          | 0/939 [00:00<?, ? examples/s]"
      ]
     },
     "metadata": {},
     "output_type": "display_data"
    },
    {
     "data": {
      "application/vnd.jupyter.widget-view+json": {
       "model_id": "bbf3d285e592405389e6016f857596e1",
       "version_major": 2,
       "version_minor": 0
      },
      "text/plain": [
       "Map:   0%|          | 0/235 [00:00<?, ? examples/s]"
      ]
     },
     "metadata": {},
     "output_type": "display_data"
    }
   ],
   "source": [
    "data = pd.read_csv(\"../dataset/output.csv\")\n",
    "data = preprocess_data(data)\n",
    "dataset = df_to_dataset(data)\n",
    "dataset = dataset.map(lambda x: tokenize_text(x, tokenizer), batched=True, batch_size=64)\n",
    "dataset.set_format(type=\"torch\")\n",
    "\n",
    "train_data_loader = DataLoader(dataset[\"train\"], batch_size=16, shuffle=False)\n",
    "test_data_loader = DataLoader(dataset[\"test\"], batch_size=16, shuffle=False)"
   ]
  },
  {
   "cell_type": "code",
   "execution_count": 6,
   "id": "656d40d1",
   "metadata": {},
   "outputs": [],
   "source": [
    "lora_config = LoraConfig(\n",
    "    r=16,\n",
    "    lora_alpha=32,\n",
    "    target_modules=[\"query\", \"value\", \"key\", \"output.dense\"],\n",
    "    lora_dropout=0.05,\n",
    "    task_type='SEQ_CLS'\n",
    ")\n",
    "\n",
    "lora_model = get_peft_model(model, lora_config)\n",
    "optimizer = torch.optim.AdamW(lora_model.parameters(), lr=5e-5)"
   ]
  },
  {
   "cell_type": "code",
   "execution_count": 7,
   "id": "31d99523",
   "metadata": {},
   "outputs": [],
   "source": [
    "def training_loop(model: nn.Module):\n",
    "    r = 0    \n",
    "    for epoch in range(50):\n",
    "        print(f\"Epoch #{epoch + 1}\")\n",
    "        print(f\"-\" * 30)\n",
    "        if r == 0:\n",
    "            old_model = copy.deepcopy(model)\n",
    "        if epoch > 0:\n",
    "            prev_test_loss = total_test_loss\n",
    "        else:\n",
    "            prev_test_loss = float(\"inf\")\n",
    "        total_train_loss = 0\n",
    "        total_test_loss = 0\n",
    "        accuracy = 0\n",
    "        \n",
    "        lora_model.train()\n",
    "        for batch in tqdm(train_data_loader):\n",
    "            optimizer.zero_grad()\n",
    "            outputs = lora_model(\n",
    "                input_ids=batch[\"input_ids\"].to(device),\n",
    "                attention_mask=batch[\"attention_mask\"].to(device),\n",
    "                labels=batch[\"label\"].to(device)\n",
    "            )\n",
    "            loss = outputs.loss\n",
    "            total_train_loss += loss.item()\n",
    "            loss.backward()\n",
    "            optimizer.step()\n",
    "        \n",
    "        print(f'Avg train loss: {total_train_loss / len(train_data_loader)}')\n",
    "        \n",
    "        lora_model.eval()\n",
    "        for batch in test_data_loader:\n",
    "            test_outputs = lora_model(\n",
    "                input_ids=batch[\"input_ids\"].to(device),\n",
    "                attention_mask=batch[\"attention_mask\"].to(device),\n",
    "                labels=batch[\"label\"].to(device)\n",
    "            )\n",
    "            total_test_loss += test_outputs.loss.item()\n",
    "            predictions = torch.argmax(test_outputs.logits, dim=1)\n",
    "            accuracy += (predictions == batch[\"label\"].to(device)).sum().item()\n",
    "        total_test_loss /= len(test_data_loader)\n",
    "        \n",
    "        print(f'Avg test loss: {total_test_loss}')\n",
    "        print(f'Test accuracy: {accuracy / len(dataset[\"test\"])}')\n",
    "        if total_test_loss > prev_test_loss:\n",
    "            r += 1\n",
    "            if r == 2:\n",
    "                print(\"Early stopping...\")\n",
    "                return old_model\n",
    "        else:\n",
    "            r = 0\n",
    "        print(f\"-\" * 30)\n",
    "    return model"
   ]
  },
  {
   "cell_type": "code",
   "execution_count": null,
   "id": "72f139df",
   "metadata": {},
   "outputs": [],
   "source": [
    "model = training_loop(model)\n",
    "torch.save(model.state_dict(), \"../models/alpha.pt\")"
   ]
  }
 ],
 "metadata": {
  "kernelspec": {
   "display_name": "classic-books-classification",
   "language": "python",
   "name": "python3"
  },
  "language_info": {
   "codemirror_mode": {
    "name": "ipython",
    "version": 3
   },
   "file_extension": ".py",
   "mimetype": "text/x-python",
   "name": "python",
   "nbconvert_exporter": "python",
   "pygments_lexer": "ipython3",
   "version": "3.10.18"
  }
 },
 "nbformat": 4,
 "nbformat_minor": 5
}
